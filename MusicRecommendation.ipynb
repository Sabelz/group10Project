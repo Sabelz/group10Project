{
 "cells": [
  {
   "cell_type": "code",
   "execution_count": 2,
   "metadata": {},
   "outputs": [],
   "source": [
    "#spark_session.stop()"
   ]
  },
  {
   "cell_type": "code",
   "execution_count": 1,
   "metadata": {},
   "outputs": [],
   "source": [
    "from pyspark import SparkContext\n",
    "from pyspark.sql import SparkSession ,Row\n",
    "from pyspark.sql.functions import col\n",
    "from pyspark.sql import SQLContext\n",
    "import pyspark.sql.functions as F\n",
    "\n",
    "from pyspark.mllib.recommendation import *\n",
    "from pyspark.ml.recommendation import ALS\n",
    "from pyspark.ml.evaluation import RegressionEvaluator\n",
    "from pyspark.ml.tuning import ParamGridBuilder, CrossValidator\n",
    "from pyspark.sql.types import IntegerType\n",
    "from pyspark.sql.functions import explode\n",
    "\n",
    "from operator import *\n",
    "import os\n",
    "import random"
   ]
  },
  {
   "cell_type": "code",
   "execution_count": 2,
   "metadata": {},
   "outputs": [
    {
     "name": "stderr",
     "output_type": "stream",
     "text": [
      "WARNING: An illegal reflective access operation has occurred\n",
      "WARNING: Illegal reflective access by org.apache.spark.unsafe.Platform (file:/home/ubuntu/.local/lib/python3.10/site-packages/pyspark/jars/spark-unsafe_2.12-3.2.3.jar) to constructor java.nio.DirectByteBuffer(long,int)\n",
      "WARNING: Please consider reporting this to the maintainers of org.apache.spark.unsafe.Platform\n",
      "WARNING: Use --illegal-access=warn to enable warnings of further illegal reflective access operations\n",
      "WARNING: All illegal access operations will be denied in a future release\n",
      "Using Spark's default log4j profile: org/apache/spark/log4j-defaults.properties\n",
      "Setting default log level to \"WARN\".\n",
      "To adjust logging level use sc.setLogLevel(newLevel). For SparkR, use setLogLevel(newLevel).\n",
      "23/03/14 15:25:14 WARN NativeCodeLoader: Unable to load native-hadoop library for your platform... using builtin-java classes where applicable\n",
      "/home/ubuntu/.local/lib/python3.10/site-packages/pyspark/sql/context.py:77: FutureWarning: Deprecated in 3.0.0. Use SparkSession.builder.getOrCreate() instead.\n",
      "  warnings.warn(\n"
     ]
    }
   ],
   "source": [
    "# initializing a spark session\n",
    "spark_session = SparkSession.builder.appName('GRP10_MusicRec').getOrCreate()\n",
    "# creating spark context for sql\n",
    "SQL_context = SQLContext(spark_session.sparkContext)\n"
   ]
  },
  {
   "cell_type": "code",
   "execution_count": 19,
   "metadata": {},
   "outputs": [
    {
     "name": "stdout",
     "output_type": "stream",
     "text": [
      "+--------------------+------------------+-----+\n",
      "|                User|              Song|Count|\n",
      "+--------------------+------------------+-----+\n",
      "|b80344d063b5ccb32...|SOAKIMP12A8C130995|    1|\n",
      "|b80344d063b5ccb32...|SOAPDEY12A81C210A9|    1|\n",
      "|b80344d063b5ccb32...|SOBBMDR12A8C13253B|    2|\n",
      "|b80344d063b5ccb32...|SOBFNSP12AF72A0E22|    1|\n",
      "|b80344d063b5ccb32...|SOBFOVM12A58A7D494|    1|\n",
      "|b80344d063b5ccb32...|SOBNZDC12A6D4FC103|    1|\n",
      "|b80344d063b5ccb32...|SOBSUJE12A6D4F8CF5|    2|\n",
      "|b80344d063b5ccb32...|SOBVFZR12A6D4F8AE3|    1|\n",
      "|b80344d063b5ccb32...|SOBXALG12A8C13C108|    1|\n",
      "|b80344d063b5ccb32...|SOBXHDL12A81C204C0|    1|\n",
      "+--------------------+------------------+-----+\n",
      "only showing top 10 rows\n",
      "\n"
     ]
    },
    {
     "name": "stderr",
     "output_type": "stream",
     "text": [
      "[Stage 282:====================================================>  (22 + 1) / 23]\r"
     ]
    },
    {
     "name": "stdout",
     "output_type": "stream",
     "text": [
      "(48373586, 3)\n"
     ]
    },
    {
     "name": "stderr",
     "output_type": "stream",
     "text": [
      "\r",
      "                                                                                \r"
     ]
    }
   ],
   "source": [
    "# reading csv data from local FS\n",
    "# THIS PART NEEDS TO BE CHANGED TO HDFS VERSION\n",
    "fPATH = 'train_triplets.txt'\n",
    "triplets = spark_session.read.csv(fPATH, header = False, sep=r'\\t')\n",
    "\n",
    "# alter col name\n",
    "triplets = triplets.withColumnRenamed('_c0','User').withColumnRenamed('_c1','Song').withColumnRenamed('_c2','Count')\n",
    "triplets.show(n=10)\n",
    "#print((triplets.count(), len(triplets.columns)))"
   ]
  },
  {
   "cell_type": "code",
   "execution_count": 23,
   "metadata": {},
   "outputs": [
    {
     "name": "stdout",
     "output_type": "stream",
     "text": [
      "+--------------------+------------------+-----+----------+-----------+--------+\n",
      "|                User|              Song|Count|    UserID|     SongID|CountNum|\n",
      "+--------------------+------------------+-----+----------+-----------+--------+\n",
      "|b80344d063b5ccb32...|SOAKIMP12A8C130995|    1|1365117428| 1315780877|       1|\n",
      "|b80344d063b5ccb32...|SOAPDEY12A81C210A9|    1|1365117428|-1623759929|       1|\n",
      "|b80344d063b5ccb32...|SOBBMDR12A8C13253B|    2|1365117428|-1218290021|       2|\n",
      "|b80344d063b5ccb32...|SOBFNSP12AF72A0E22|    1|1365117428|-1227648141|       1|\n",
      "|b80344d063b5ccb32...|SOBFOVM12A58A7D494|    1|1365117428| 2054460487|       1|\n",
      "|b80344d063b5ccb32...|SOBNZDC12A6D4FC103|    1|1365117428| 1741539561|       1|\n",
      "|b80344d063b5ccb32...|SOBSUJE12A6D4F8CF5|    2|1365117428| 1352462404|       2|\n",
      "|b80344d063b5ccb32...|SOBVFZR12A6D4F8AE3|    1|1365117428|-1539040688|       1|\n",
      "|b80344d063b5ccb32...|SOBXALG12A8C13C108|    1|1365117428| 1734414350|       1|\n",
      "|b80344d063b5ccb32...|SOBXHDL12A81C204C0|    1|1365117428| 1593338752|       1|\n",
      "+--------------------+------------------+-----+----------+-----------+--------+\n",
      "only showing top 10 rows\n",
      "\n"
     ]
    }
   ],
   "source": [
    "# initializing a new dataframe\n",
    "# generate hash for the upcoming processing\n",
    "tripletsDF = triplets.withColumn('UserID', F.hash(col('User')))\n",
    "tripletsDF = tripletsDF.withColumn('SongID', F.hash(col('Song')))\n",
    "tripletsDF = tripletsDF.withColumn('CountNum', col('Count').cast(IntegerType()))\n",
    "tripletsDF.show(10)\n",
    "# This DF should have 48M entries, if we want to just have a test,\n",
    "# limit it to 10k or 100k (still takes hours on single node)\n",
    "#tripletsDF = tripletsDF.limit(10000)\n",
    "# export a csv file for a glance view of tripletsDF\n",
    "#tripletsDF.limit(200).write.csv('tripletsDF_preview')"
   ]
  },
  {
   "cell_type": "code",
   "execution_count": 32,
   "metadata": {},
   "outputs": [
    {
     "name": "stdout",
     "output_type": "stream",
     "text": [
      "+------------------+--------------------+--------------------+-----------+\n",
      "|              Song|          ArtistName|               Title|     SongID|\n",
      "+------------------+--------------------+--------------------+-----------+\n",
      "|SOQMMHC12AB0180CB8|    Faster Pussy cat|        Silent Night| -561391088|\n",
      "|SOVFVAK12A8C1350D9|    Karkkiautomaatti|         Tanssi vaan| -147901473|\n",
      "|SOGTUKN12AB017F4F1|      Hudson Mohawke|   No One Could Ever|  547521741|\n",
      "|SOBNYVR12A8C13558C|         Yerba Brava|       Si Vos Querés| -624908617|\n",
      "|SOHSBXH12A8C13B0DF|          Der Mystic|    Tangle Of Aspens| 1651792394|\n",
      "|SOZVAPQ12A8C13B63C|    David Montgomery|Symphony No. 1 G ...| 1156129240|\n",
      "|SOQVRHI12A6D4FB2D7|  Sasha / Turbulence|    We Have Got Love|-1236863542|\n",
      "|SOEYRFT12AB018936C|          Kris Kross|   2 Da Beat Ch'yall| 1516150147|\n",
      "|SOPMIYT12A6D4F851E|        Joseph Locke|             Goodbye|-1661794774|\n",
      "|SOJCFMH12A8C13B0C2|The Sun Harbor's ...|Mama_ mama can't ...| -517389677|\n",
      "+------------------+--------------------+--------------------+-----------+\n",
      "only showing top 10 rows\n",
      "\n"
     ]
    }
   ],
   "source": [
    "fPATH2 = 'unique_tracks.txt'\n",
    "# read another file with tracks and artist info\n",
    "uTracks = spark_session.read.csv(fPATH2, sep = '<SEP>')\n",
    "# renaming columns\n",
    "uTracks = uTracks.withColumnRenamed(\"_c1\",\"Song\").withColumnRenamed(\"_c2\",\"ArtistName\").withColumnRenamed(\"_c3\",\"Title\")\n",
    "# same as before\n",
    "uTracks = uTracks.withColumn(\"SongID\", F.hash(col(\"Song\")))\n",
    "uTracks = uTracks.drop(uTracks[\"_c0\"]) # removing _c0 column\n",
    "uTracks.show(10)"
   ]
  },
  {
   "cell_type": "code",
   "execution_count": 37,
   "metadata": {},
   "outputs": [
    {
     "name": "stderr",
     "output_type": "stream",
     "text": [
      "                                                                                \r"
     ]
    },
    {
     "name": "stdout",
     "output_type": "stream",
     "text": [
      "+--------------------+------------------+-----+-----------+-----------+--------+--------------------+--------------------+-----------+\n",
      "|                User|              Song|Count|     UserID|     SongID|CountNum|          ArtistName|               Title|     SongID|\n",
      "+--------------------+------------------+-----+-----------+-----------+--------+--------------------+--------------------+-----------+\n",
      "|b80344d063b5ccb32...|SOBBMDR12A8C13253B|    2| 1365117428|-1218290021|       2|       Paco De Lucia|     Entre Dos Aguas|-1218290021|\n",
      "|8937134734f869deb...|SOJCGJJ12A8AE48B5D|    5| -263623207| 1573068951|       5| The Pointer Sisters|  Jump (For My Love)| 1573068951|\n",
      "|17aa9f6dbdf753831...|SONMWXV12AB01803B4|    1|-1748408205| -494221261|       1|      Jonas Brothers|           Year 3000| -494221261|\n",
      "|d6589314c0a9bcbca...|SOSZNRJ12A8AE46E38|    6| 1468154379|-1903656676|       6|Michael Cera & El...| Anyone Else But You|-1903656676|\n",
      "|5a905f000fc1ff3df...|SOAKDHD12A6310F1AE|    1| 1598577928|-1456411779|       1|           Daft Punk|Face To Face (Cos...|-1456411779|\n",
      "|5a905f000fc1ff3df...|SOEDGBE12A670211D3|    2| 1598577928|-1532289296|       2|           Daft Punk|Technologic (Vita...|-1532289296|\n",
      "|5a905f000fc1ff3df...|SOETSTN12A81C219A9|    3| 1598577928|  204643966|       3|           The Knife|        Silent Shout|  204643966|\n",
      "|baf47ed8da24d607e...|SOHNFBA12AB018CD1D|    1|  845958697|-2083136400|       1|               Foals|          Black Gold|-2083136400|\n",
      "|403b3b867fc71dfdc...|SOUELOC12AB0182DD1|    2|  -14365245| 1852953982|       2|                Cake|Stickshifts And S...| 1852953982|\n",
      "|f84f5b5a5c5d1d9fb...|SOUZHHG12A58A7B4F5|    1| -860267107| -143257096|       1|Joan Jett & The B...|          Back It Up| -143257096|\n",
      "+--------------------+------------------+-----+-----------+-----------+--------+--------------------+--------------------+-----------+\n",
      "only showing top 10 rows\n",
      "\n"
     ]
    },
    {
     "name": "stderr",
     "output_type": "stream",
     "text": [
      "[Stage 319:====================================================>  (22 + 1) / 23]\r"
     ]
    },
    {
     "name": "stdout",
     "output_type": "stream",
     "text": [
      "(269015, 9)\n"
     ]
    },
    {
     "name": "stderr",
     "output_type": "stream",
     "text": [
      "\r",
      "                                                                                \r"
     ]
    }
   ],
   "source": [
    "# create datafram with matching songID from the dataframes tripletsDF and uTracks, and dropping duplicate column \"Song\"\n",
    "matchingSongID = tripletsDF.join(uTracks,tripletsDF[\"SongID\"] == uTracks[\"SongID\"]).drop(uTracks[\"Song\"])\n",
    "matchingSongID.show(10)\n",
    "print((matchingSongID.count(), len(matchingSongID.columns)))"
   ]
  },
  {
   "cell_type": "code",
   "execution_count": 17,
   "metadata": {},
   "outputs": [],
   "source": [
    "# train test split\n",
    "# make this seprately if we skip the cv process\n",
    "(train, test) = tripletsDF.randomSplit([0.8,0.2], seed = 42)\n",
    "# to choose if CV best result will be used, 0 for use our own hyperparameters, 1 for auto\n",
    "CV = 0\n",
    "# initializing ALS model\n",
    "ALS_model = ALS(maxIter = 3, userCol = \"UserID\", itemCol = 'SongID', ratingCol = 'CountNum', coldStartStrategy = 'drop')"
   ]
  },
  {
   "cell_type": "code",
   "execution_count": 6,
   "metadata": {},
   "outputs": [],
   "source": [
    "# grid seraching for the best parameter, adding more costs exponential time\n",
    "grid = ParamGridBuilder().addGrid(ALS_model.rank, [10]).addGrid(ALS_model.regParam, [0.01]).build()\n",
    "\n",
    "# initialzie a RMSE evaluator\n",
    "evaluator = RegressionEvaluator(metricName = 'rmse', labelCol = 'CountNum', predictionCol = 'prediction')\n",
    "\n",
    "if CV == 1:\n",
    "    # set up cross validation process\n",
    "    CrossVal = CrossValidator(numFolds = 5, estimator = ALS_model, estimatorParamMaps = grid, evaluator = evaluator)\n",
    "\n",
    "    model = CrossVal.fit(train)\n",
    "\n",
    "    # get the best model from cross validation\n",
    "    TopModel = model.bestModel"
   ]
  },
  {
   "cell_type": "code",
   "execution_count": 7,
   "metadata": {},
   "outputs": [
    {
     "name": "stderr",
     "output_type": "stream",
     "text": [
      "23/03/14 15:28:44 WARN InstanceBuilder$NativeBLAS: Failed to load implementation from:dev.ludovic.netlib.blas.JNIBLAS\n",
      "23/03/14 15:28:44 WARN InstanceBuilder$NativeBLAS: Failed to load implementation from:dev.ludovic.netlib.blas.ForeignLinkerBLAS\n",
      "23/03/14 15:28:45 WARN InstanceBuilder$NativeLAPACK: Failed to load implementation from:dev.ludovic.netlib.lapack.JNILAPACK\n",
      "                                                                                \r"
     ]
    },
    {
     "name": "stdout",
     "output_type": "stream",
     "text": [
      "The RMSE is: 7.429359669657181\n"
     ]
    }
   ],
   "source": [
    "# using the best hyperparameters from cv process\n",
    "if CV == 1:\n",
    "    estimator1 = ALS(rank = TopModel._java_obj.parent().getRank(), regParam = TopModel._java_obj.parent().getRegParam(), maxIter = 10, userCol = \"UserID\", itemCol = 'SongID', ratingCol = 'CountNum', coldStartStrategy = 'drop')\n",
    "else:\n",
    "    estimator1 = ALS(rank = 10, regParam = 0.01, maxIter = 3, userCol = \"UserID\", itemCol = 'SongID', ratingCol = 'CountNum', coldStartStrategy = 'drop')\n",
    "model1 = estimator1.fit(train)\n",
    "\n",
    "\n",
    "# make predictions from this model and see the RMSE\n",
    "predictions1 = model1.transform(test)\n",
    "print('The RMSE is:', evaluator.evaluate(predictions1))"
   ]
  },
  {
   "cell_type": "code",
   "execution_count": 8,
   "metadata": {},
   "outputs": [
    {
     "name": "stderr",
     "output_type": "stream",
     "text": [
      "/home/ubuntu/.local/lib/python3.10/site-packages/pyspark/sql/context.py:125: FutureWarning: Deprecated in 3.0.0. Use SparkSession.builder.getOrCreate() instead.\n",
      "  warnings.warn(\n"
     ]
    },
    {
     "name": "stdout",
     "output_type": "stream",
     "text": [
      "root\n",
      " |-- UserID: integer (nullable = false)\n",
      " |-- recommendations: array (nullable = true)\n",
      " |    |-- element: struct (containsNull = true)\n",
      " |    |    |-- SongID: integer (nullable = true)\n",
      " |    |    |-- rating: float (nullable = true)\n",
      "\n"
     ]
    },
    {
     "name": "stderr",
     "output_type": "stream",
     "text": [
      "                                                                                \r"
     ]
    },
    {
     "name": "stdout",
     "output_type": "stream",
     "text": [
      "+-----------+-----------+---------+\n",
      "|     UserID|     SongID|   Rating|\n",
      "+-----------+-----------+---------+\n",
      "|-2131509675| 1458280062|31.912842|\n",
      "|-2131509675| 2055222246|20.631996|\n",
      "|-2131509675|  879723940|16.991217|\n",
      "|-2131509675| -935160721|12.000662|\n",
      "|-2131509675| 1306018349|11.004046|\n",
      "|-2131509675| -201959134|10.430031|\n",
      "|-2131509675|-1204575976| 9.996399|\n",
      "|-2131509675| -511952190| 9.994833|\n",
      "|-2131509675|-1488449153| 9.918545|\n",
      "|-2131509675|  119087386| 9.778154|\n",
      "|-2110749797| 1458280062|  67.5327|\n",
      "|-2110749797| 2055222246| 64.48921|\n",
      "|-2110749797|-1977062199|24.984308|\n",
      "|-2110749797| 1710454464|22.034925|\n",
      "|-2110749797| -787533004|20.331532|\n",
      "|-2110749797| 2140071289|16.740631|\n",
      "|-2110749797| -450919340|16.572977|\n",
      "|-2110749797| -890345102| 16.36375|\n",
      "|-2110749797|  249097782|15.978709|\n",
      "|-2110749797|  535662807|13.997083|\n",
      "|-2086707023| -935160721| 27.60996|\n",
      "|-2086707023|-1297915589|21.672539|\n",
      "|-2086707023|  734367063|14.257734|\n",
      "|-2086707023| 2140071289|13.756442|\n",
      "|-2086707023|  336855604|13.743561|\n",
      "|-2086707023| -233513221|13.655399|\n",
      "|-2086707023| 1199136760|12.137728|\n",
      "|-2086707023|  299423464|12.001622|\n",
      "|-2086707023| 1749861452|11.579368|\n",
      "|-2086707023|-1283272864|11.117582|\n",
      "+-----------+-----------+---------+\n",
      "only showing top 30 rows\n",
      "\n"
     ]
    },
    {
     "name": "stderr",
     "output_type": "stream",
     "text": [
      "                                                                                \r"
     ]
    }
   ],
   "source": [
    "# generating recommendations (TOP 10)\n",
    "Top10Rec = model1.recommendForAllUsers(10)\n",
    "Top10Rec.printSchema()\n",
    "#Top10Rec.show(30)\n",
    "\n",
    "Top10RecExploded = Top10Rec.withColumn('rec', explode(\"recommendations\")).select('UserID', col(\"rec.SongID\"), col(\"rec.Rating\"))\n",
    "Top10RecExploded.show(30)\n",
    "\n",
    "# export a glance view of Top10Recommendations\n",
    "Top10RecExploded.limit(100).write.csv('Top10Recommendations')"
   ]
  },
  {
   "cell_type": "code",
   "execution_count": 9,
   "metadata": {},
   "outputs": [
    {
     "name": "stderr",
     "output_type": "stream",
     "text": [
      "                                                                                \r"
     ]
    }
   ],
   "source": [
    "# export a glance view of Top10Recommendations\n",
    "Top10RecExploded.write.csv('Top10Recommendations_50000')"
   ]
  },
  {
   "cell_type": "code",
   "execution_count": 11,
   "metadata": {},
   "outputs": [
    {
     "name": "stderr",
     "output_type": "stream",
     "text": [
      "                                                                                \r"
     ]
    },
    {
     "name": "stdout",
     "output_type": "stream",
     "text": [
      "+-----------+-----------+----------+------------------+------------------+------------+-----------------+\n",
      "|     SongID|     UserID|    Rating|               _c0|              Song|  ArtistName|            Title|\n",
      "+-----------+-----------+----------+------------------+------------------+------------+-----------------+\n",
      "|-1687914835| -585083843| 18.760351|TRMHHRK128F932A818|SOLPVAQ12AB017EB35|   Nick Lowe|All Men Are Liars|\n",
      "|-1687914835| -100314973| 18.429499|TRMHHRK128F932A818|SOLPVAQ12AB017EB35|   Nick Lowe|All Men Are Liars|\n",
      "|-1687914835|  -35879908| 17.881044|TRMHHRK128F932A818|SOLPVAQ12AB017EB35|   Nick Lowe|All Men Are Liars|\n",
      "|-1687914835|  588653661|  17.53953|TRMHHRK128F932A818|SOLPVAQ12AB017EB35|   Nick Lowe|All Men Are Liars|\n",
      "|-1687914835|  549596506| 15.353599|TRMHHRK128F932A818|SOLPVAQ12AB017EB35|   Nick Lowe|All Men Are Liars|\n",
      "|-1687914835|-2007952265| 14.905753|TRMHHRK128F932A818|SOLPVAQ12AB017EB35|   Nick Lowe|All Men Are Liars|\n",
      "|-1687914835| 1020076396|14.6285305|TRMHHRK128F932A818|SOLPVAQ12AB017EB35|   Nick Lowe|All Men Are Liars|\n",
      "|-1687914835| -363261342| 14.277747|TRMHHRK128F932A818|SOLPVAQ12AB017EB35|   Nick Lowe|All Men Are Liars|\n",
      "| 1623508029| -951273088| 14.046262|TRMMTTM128F92FD3CF|SOAOOXO12AF72A787F|Foo Fighters|            Still|\n",
      "|-1687914835| -660751184| 13.212763|TRMHHRK128F932A818|SOLPVAQ12AB017EB35|   Nick Lowe|All Men Are Liars|\n",
      "+-----------+-----------+----------+------------------+------------------+------------+-----------------+\n",
      "only showing top 10 rows\n",
      "\n"
     ]
    }
   ],
   "source": [
    "# join two dataframes so that we can match song title with id\n",
    "preview1 = Top10RecExploded.join(uTracks, on = 'SongID').sort('Rating', ascending = False)\n",
    "\n",
    "# if nothing shows here, you need to use a larger limit for tripletsDF, e.g. 100,000\n",
    "preview1.show(10)"
   ]
  },
  {
   "cell_type": "code",
   "execution_count": 12,
   "metadata": {},
   "outputs": [
    {
     "name": "stderr",
     "output_type": "stream",
     "text": [
      "                                                                                \r"
     ]
    },
    {
     "name": "stdout",
     "output_type": "stream",
     "text": [
      "+------------------+--------------------+-----+----------+-----------+--------+-------------+-------------------+\n",
      "|              Song|                User|Count|    UserID|     SongID|CountNum|avg(CountNum)|             Rating|\n",
      "+------------------+--------------------+-----+----------+-----------+--------+-------------+-------------------+\n",
      "|SOAKIMP12A8C130995|b80344d063b5ccb32...|    1|1365117428| 1315780877|       1|          1.0|                1.0|\n",
      "|SOAPDEY12A81C210A9|b80344d063b5ccb32...|    1|1365117428|-1623759929|       1|          1.0|                1.0|\n",
      "|SOBBMDR12A8C13253B|b80344d063b5ccb32...|    2|1365117428|-1218290021|       2|          1.5| 1.3333333333333333|\n",
      "|SOBFNSP12AF72A0E22|b80344d063b5ccb32...|    1|1365117428|-1227648141|       1|          1.0|                1.0|\n",
      "|SOBFOVM12A58A7D494|b80344d063b5ccb32...|    1|1365117428| 2054460487|       1|          1.0|                1.0|\n",
      "|SOBNZDC12A6D4FC103|b80344d063b5ccb32...|    1|1365117428| 1741539561|       1|          1.0|                1.0|\n",
      "|SOBSUJE12A6D4F8CF5|b80344d063b5ccb32...|    2|1365117428| 1352462404|       2|          1.5| 1.3333333333333333|\n",
      "|SOBVFZR12A6D4F8AE3|b80344d063b5ccb32...|    1|1365117428|-1539040688|       1|          1.0|                1.0|\n",
      "|SOBXALG12A8C13C108|b80344d063b5ccb32...|    1|1365117428| 1734414350|       1|          1.0|                1.0|\n",
      "|SOBXHDL12A81C204C0|b80344d063b5ccb32...|    1|1365117428| 1593338752|       1|         5.75|0.17391304347826086|\n",
      "+------------------+--------------------+-----+----------+-----------+--------+-------------+-------------------+\n",
      "\n"
     ]
    }
   ],
   "source": [
    "AVGtripletDF = tripletsDF.groupby('Song').avg('CountNum')\n",
    "AVGtripletDF = tripletsDF.join(AVGtripletDF,on = 'Song')\n",
    "AVGtripletDF = AVGtripletDF.withColumn('Rating',F.col('CountNum') / F.col('avg(CountNum)'))\n",
    "AVGtripletDF.limit(10).show()"
   ]
  },
  {
   "cell_type": "code",
   "execution_count": 13,
   "metadata": {},
   "outputs": [
    {
     "name": "stderr",
     "output_type": "stream",
     "text": [
      "                                                                                \r"
     ]
    },
    {
     "name": "stdout",
     "output_type": "stream",
     "text": [
      "The RMSE is: 7.407911345459607\n"
     ]
    }
   ],
   "source": [
    "# train test split\n",
    "# make this seprately if we skip the cv process\n",
    "(train, test) = AVGtripletDF.randomSplit([0.8,0.2], seed = 42)\n",
    "# to choose if CV best result will be used, 0 for use our own hyperparameters, 1 for auto\n",
    "CV = 0\n",
    "# initializing ALS model\n",
    "ALS_model = ALS(maxIter = 3, userCol = \"UserID\", itemCol = 'SongID', ratingCol = 'CountNum', coldStartStrategy = 'drop')\n",
    "\n",
    "\n",
    "# grid seraching for the best parameter, adding more costs exponential time\n",
    "grid = ParamGridBuilder().addGrid(ALS_model.rank, [10]).addGrid(ALS_model.regParam, [0.01]).build()\n",
    "\n",
    "# initialzie a RMSE evaluator\n",
    "evaluator = RegressionEvaluator(metricName = 'rmse', labelCol = 'CountNum', predictionCol = 'prediction')\n",
    "\n",
    "if CV == 1:\n",
    "    # set up cross validation process\n",
    "    CrossVal = CrossValidator(numFolds = 5, estimator = ALS_model, estimatorParamMaps = grid, evaluator = evaluator)\n",
    "\n",
    "    model = CrossVal.fit(train)\n",
    "\n",
    "    # get the best model from cross validation\n",
    "    TopModel = model.bestModel\n",
    "    \n",
    "\n",
    "# using the best hyperparameters from cv process\n",
    "if CV == 1:\n",
    "    estimator2 = ALS(rank = TopModel._java_obj.parent().getRank(), regParam = TopModel._java_obj.parent().getRegParam(), maxIter = 10, userCol = \"UserID\", itemCol = 'SongID', ratingCol = 'CountNum', coldStartStrategy = 'drop')\n",
    "else:\n",
    "    estimator2 = ALS(rank = 10, regParam = 0.01, maxIter = 3, userCol = \"UserID\", itemCol = 'SongID', ratingCol = 'CountNum', coldStartStrategy = 'drop')\n",
    "model2 = estimator2.fit(train)\n",
    "\n",
    "\n",
    "# make predictions from this model and see the RMSE\n",
    "predictions2 = model2.transform(test)\n",
    "print('The RMSE is:', evaluator.evaluate(predictions2))"
   ]
  },
  {
   "cell_type": "code",
   "execution_count": 14,
   "metadata": {},
   "outputs": [
    {
     "name": "stderr",
     "output_type": "stream",
     "text": [
      "[Stage 234:=====================================================>(99 + 1) / 100]\r"
     ]
    },
    {
     "name": "stdout",
     "output_type": "stream",
     "text": [
      "+-----------+-----------+---------+\n",
      "|     UserID|     SongID|   Rating|\n",
      "+-----------+-----------+---------+\n",
      "|-2131509675|-1930412723|23.561878|\n",
      "|-2131509675|  879723940|16.996307|\n",
      "|-2131509675| -474679864|12.047587|\n",
      "|-2131509675| -201959134|11.697766|\n",
      "|-2131509675|  652118490|11.000159|\n",
      "|-2131509675| 1306018349| 10.97734|\n",
      "|-2131509675|  119087386|10.966654|\n",
      "|-2131509675| -450919340|10.756085|\n",
      "|-2131509675| -511952190| 9.997828|\n",
      "|-2131509675| 1350330894| 9.745574|\n",
      "|-2110749797|-1930412723| 81.26264|\n",
      "|-2110749797|-1297511273|28.665258|\n",
      "|-2110749797|-1977062199|24.993374|\n",
      "|-2110749797| 1710454464|21.972082|\n",
      "|-2110749797| 1689226843|19.066015|\n",
      "|-2110749797| -787533004|18.352938|\n",
      "|-2110749797| -890345102|17.714481|\n",
      "|-2110749797|  249097782|15.965396|\n",
      "|-2110749797| -219465134|13.818289|\n",
      "|-2110749797| 1798603311| 9.715985|\n",
      "+-----------+-----------+---------+\n",
      "only showing top 20 rows\n",
      "\n"
     ]
    },
    {
     "name": "stderr",
     "output_type": "stream",
     "text": [
      "\r",
      "                                                                                \r"
     ]
    }
   ],
   "source": [
    "Top10NewRec = model2.recommendForAllUsers(10)\n",
    "Top10NewRecExploded = Top10NewRec.withColumn('rec', explode(\"recommendations\")).select('UserID', col(\"rec.SongID\"), col(\"rec.Rating\"))\n",
    "Top10NewRecExploded.show(20)"
   ]
  },
  {
   "cell_type": "code",
   "execution_count": 15,
   "metadata": {},
   "outputs": [
    {
     "name": "stderr",
     "output_type": "stream",
     "text": [
      "                                                                                \r"
     ]
    },
    {
     "name": "stdout",
     "output_type": "stream",
     "text": [
      "+------+------+------+-----+\n",
      "|SongID|UserID|Rating|Title|\n",
      "+------+------+------+-----+\n",
      "+------+------+------+-----+\n",
      "\n"
     ]
    }
   ],
   "source": [
    "preview2 = Top10NewRecExploded.join(uTracks, on='SongID').filter('UserID = -1935480550').sort('Rating',ascending=False).select('SongID','UserID','Rating','Title')\n",
    "preview2.show()"
   ]
  },
  {
   "cell_type": "code",
   "execution_count": 16,
   "metadata": {},
   "outputs": [
    {
     "name": "stderr",
     "output_type": "stream",
     "text": [
      "                                                                                \r"
     ]
    },
    {
     "name": "stdout",
     "output_type": "stream",
     "text": [
      "+------+------+--------+-----+\n",
      "|SongID|UserID|CountNum|Title|\n",
      "+------+------+--------+-----+\n",
      "+------+------+--------+-----+\n",
      "\n"
     ]
    }
   ],
   "source": [
    "preview3 = AVGtripletDF.join(uTracks,on=\"SongID\").filter('UserID = -1935480550').sort('CountNum', ascending=False).select('SongID','UserID','CountNum','Title')\n",
    "preview3.show()"
   ]
  },
  {
   "cell_type": "code",
   "execution_count": 25,
   "metadata": {},
   "outputs": [
    {
     "name": "stderr",
     "output_type": "stream",
     "text": [
      "                                                                                \r"
     ]
    }
   ],
   "source": [
    "preview2.write.csv('Top10NewRecommendations_All')\n",
    "preview3.write.csv('AVGtripletDF_All')"
   ]
  },
  {
   "cell_type": "code",
   "execution_count": null,
   "metadata": {},
   "outputs": [],
   "source": []
  }
 ],
 "metadata": {
  "kernelspec": {
   "display_name": "Python 3 (ipykernel)",
   "language": "python",
   "name": "python3"
  },
  "language_info": {
   "codemirror_mode": {
    "name": "ipython",
    "version": 3
   },
   "file_extension": ".py",
   "mimetype": "text/x-python",
   "name": "python",
   "nbconvert_exporter": "python",
   "pygments_lexer": "ipython3",
   "version": "3.10.6"
  },
  "vscode": {
   "interpreter": {
    "hash": "1c612fed8d120ac5c30643c808a4d3b681130bd8cc40d3014416815b15cd817e"
   }
  }
 },
 "nbformat": 4,
 "nbformat_minor": 2
}
