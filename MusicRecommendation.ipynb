{
 "cells": [
  {
   "cell_type": "code",
   "execution_count": 18,
   "metadata": {},
   "outputs": [],
   "source": [
    "from pyspark import SparkContext\n",
    "from pyspark.sql import SparkSession ,Row\n",
    "from pyspark.sql.functions import col\n",
    "from pyspark.sql import SQLContext\n",
    "import pyspark.sql.functions as F\n",
    "\n",
    "from pyspark.mllib.recommendation import *\n",
    "from pyspark.ml.recommendation import ALS\n",
    "from pyspark.ml.evaluation import RegressionEvaluator\n",
    "from pyspark.ml.tuning import ParamGridBuilder, CrossValidator\n",
    "from pyspark.sql.types import IntegerType\n",
    "from pyspark.sql.functions import explode\n",
    "\n",
    "from operator import *\n",
    "import os\n",
    "import random"
   ]
  },
  {
   "cell_type": "code",
   "execution_count": 2,
   "metadata": {},
   "outputs": [
    {
     "name": "stderr",
     "output_type": "stream",
     "text": [
      "WARNING: An illegal reflective access operation has occurred\n",
      "WARNING: Illegal reflective access by org.apache.spark.unsafe.Platform (file:/home/ubuntu/.local/lib/python3.10/site-packages/pyspark/jars/spark-unsafe_2.12-3.2.3.jar) to constructor java.nio.DirectByteBuffer(long,int)\n",
      "WARNING: Please consider reporting this to the maintainers of org.apache.spark.unsafe.Platform\n",
      "WARNING: Use --illegal-access=warn to enable warnings of further illegal reflective access operations\n",
      "WARNING: All illegal access operations will be denied in a future release\n",
      "Using Spark's default log4j profile: org/apache/spark/log4j-defaults.properties\n",
      "Setting default log level to \"WARN\".\n",
      "To adjust logging level use sc.setLogLevel(newLevel). For SparkR, use setLogLevel(newLevel).\n",
      "23/03/11 15:42:01 WARN NativeCodeLoader: Unable to load native-hadoop library for your platform... using builtin-java classes where applicable\n",
      "23/03/11 15:42:03 WARN Utils: Service 'SparkUI' could not bind on port 4040. Attempting port 4041.\n",
      "/home/ubuntu/.local/lib/python3.10/site-packages/pyspark/sql/context.py:77: FutureWarning: Deprecated in 3.0.0. Use SparkSession.builder.getOrCreate() instead.\n",
      "  warnings.warn(\n"
     ]
    }
   ],
   "source": [
    "# initializing a spark session\n",
    "spark_session = SparkSession.builder.appName('GRP10_MusicRec').getOrCreate()\n",
    "# creating spark context for sql\n",
    "SQL_context = SQLContext(spark_session.sparkContext)\n"
   ]
  },
  {
   "cell_type": "code",
   "execution_count": 3,
   "metadata": {},
   "outputs": [
    {
     "name": "stderr",
     "output_type": "stream",
     "text": [
      "                                                                                \r"
     ]
    },
    {
     "name": "stdout",
     "output_type": "stream",
     "text": [
      "+--------------------+------------------+-----+\n",
      "|                User|              Song|Count|\n",
      "+--------------------+------------------+-----+\n",
      "|b80344d063b5ccb32...|SOAKIMP12A8C130995|    1|\n",
      "|b80344d063b5ccb32...|SOAPDEY12A81C210A9|    1|\n",
      "|b80344d063b5ccb32...|SOBBMDR12A8C13253B|    2|\n",
      "|b80344d063b5ccb32...|SOBFNSP12AF72A0E22|    1|\n",
      "|b80344d063b5ccb32...|SOBFOVM12A58A7D494|    1|\n",
      "|b80344d063b5ccb32...|SOBNZDC12A6D4FC103|    1|\n",
      "|b80344d063b5ccb32...|SOBSUJE12A6D4F8CF5|    2|\n",
      "|b80344d063b5ccb32...|SOBVFZR12A6D4F8AE3|    1|\n",
      "|b80344d063b5ccb32...|SOBXALG12A8C13C108|    1|\n",
      "|b80344d063b5ccb32...|SOBXHDL12A81C204C0|    1|\n",
      "+--------------------+------------------+-----+\n",
      "only showing top 10 rows\n",
      "\n"
     ]
    }
   ],
   "source": [
    "# reading csv data from local FS\n",
    "# THIS PART NEEDS TO BE CHANGED TO HDFS VERSION\n",
    "fPATH = 'train_triplets.txt'\n",
    "triplets = spark_session.read.csv(fPATH, header = False, sep=r'\\t')\n",
    "\n",
    "# alter col name\n",
    "triplets = triplets.withColumnRenamed('_c0','User').withColumnRenamed('_c1','Song').withColumnRenamed('_c2','Count')\n",
    "triplets.show(n=10)\n",
    "#print((triplets.count(), len(triplets.columns)))"
   ]
  },
  {
   "cell_type": "code",
   "execution_count": 12,
   "metadata": {},
   "outputs": [
    {
     "name": "stderr",
     "output_type": "stream",
     "text": [
      "                                                                                \r"
     ]
    }
   ],
   "source": [
    "# initializing a new dataframe\n",
    "# generate hash for the upcoming processing\n",
    "tripletsDF = triplets.withColumn('UserID', F.hash(col('User')))\n",
    "tripletsDF = tripletsDF.withColumn('SongID', F.hash(col('Song')))\n",
    "tripletsDF = tripletsDF.withColumn('CountNum', col('Count').cast(IntegerType()))\n",
    "\n",
    "\n",
    "# This DF should have 48M entries, if we want to just have a test,\n",
    "# limit it to 10k or 100k (still takes hours on single node)\n",
    "tripletsDF = tripletsDF.limit(1000)\n",
    "\n",
    "# export a csv file for a glance view of tripletsDF\n",
    "tripletsDF.limit(200).write.csv('tripletsDF_preview')"
   ]
  },
  {
   "cell_type": "code",
   "execution_count": 13,
   "metadata": {},
   "outputs": [
    {
     "name": "stderr",
     "output_type": "stream",
     "text": [
      "[Stage 11:==============================================>         (19 + 1) / 23]\r"
     ]
    },
    {
     "name": "stdout",
     "output_type": "stream",
     "text": [
      "+--------------------+------------------+-----+----------+-----------+--------+\n",
      "|                User|              Song|Count|    UserID|     SongID|CountNum|\n",
      "+--------------------+------------------+-----+----------+-----------+--------+\n",
      "|b80344d063b5ccb32...|SOAKIMP12A8C130995|    1|1365117428| 1315780877|       1|\n",
      "|b80344d063b5ccb32...|SOAPDEY12A81C210A9|    1|1365117428|-1623759929|       1|\n",
      "|b80344d063b5ccb32...|SOBBMDR12A8C13253B|    2|1365117428|-1218290021|       2|\n",
      "|b80344d063b5ccb32...|SOBFNSP12AF72A0E22|    1|1365117428|-1227648141|       1|\n",
      "|b80344d063b5ccb32...|SOBFOVM12A58A7D494|    1|1365117428| 2054460487|       1|\n",
      "+--------------------+------------------+-----+----------+-----------+--------+\n",
      "only showing top 5 rows\n",
      "\n"
     ]
    },
    {
     "name": "stderr",
     "output_type": "stream",
     "text": [
      "                                                                                \r"
     ]
    }
   ],
   "source": [
    "tripletsDF.show(5)"
   ]
  },
  {
   "cell_type": "code",
   "execution_count": 14,
   "metadata": {},
   "outputs": [],
   "source": [
    "# train test split\n",
    "# make this seprately if we skip the cv process\n",
    "(train, test) = tripletsDF.randomSplit([0.8,0.2], seed = 42)\n",
    "CV = 0"
   ]
  },
  {
   "cell_type": "code",
   "execution_count": null,
   "metadata": {},
   "outputs": [],
   "source": [
    "ALS_model = ALS(maxIter = 3, userCol = \"UserId\", itemCol = 'SongId', ratingCol = 'CountNum', coldStartStrategy = 'drop')\n",
    "\n",
    "# grid seraching for the best parameter, adding more costs exponential time\n",
    "grid = ParamGridBuilder().addGrid(ALS_model.rank, [10]).addGrid(ALS_model.regParam, [0.01]).build()\n",
    "\n",
    "# set up cross validation process\n",
    "CrossVal = CrossValidator(numFolds = 5, estimator = ALS_model, estimatorParamMaps = grid, evaluator = evaluator)\n",
    "\n",
    "model = CrossVal.fit(train)\n",
    "CV = 1\n",
    "# get the best model from cross validation\n",
    "TopModel = model.bestModel"
   ]
  },
  {
   "cell_type": "code",
   "execution_count": 16,
   "metadata": {},
   "outputs": [
    {
     "name": "stderr",
     "output_type": "stream",
     "text": [
      "                                                                                \r"
     ]
    },
    {
     "name": "stdout",
     "output_type": "stream",
     "text": [
      "The RMSE is: 7.702996979255093\n"
     ]
    },
    {
     "name": "stderr",
     "output_type": "stream",
     "text": [
      "                                                                                \r"
     ]
    }
   ],
   "source": [
    "# using the best hyperparameters from cv process\n",
    "if CV == 1:\n",
    "    estimator1 = ALS(rank = TopModel._java_obj.parent().getRank(), regParam = TopModel._java_obj.parent().getRegParam(), maxIter = 10, userCol = \"UserId\", itemCol = 'SongId', ratingCol = 'CountNum', coldStartStrategy = 'drop')\n",
    "else:\n",
    "    estimator1 = ALS(rank = 10, regParam = 0.01, maxIter = 10, userCol = \"UserID\", itemCol = 'SongID', ratingCol = 'CountNum', coldStartStrategy = 'drop')\n",
    "model1 = estimator1.fit(train)\n",
    "\n",
    "# initialzie a RMSE evaluator\n",
    "evaluator = RegressionEvaluator(metricName = 'rmse', labelCol = 'CountNum', predictionCol = 'prediction')\n",
    "\n",
    "# make predictions from this model and see the RMSE\n",
    "predictions1 = model1.transform(test)\n",
    "print('The RMSE is:', evaluator.evaluate(predictions1))"
   ]
  },
  {
   "cell_type": "code",
   "execution_count": 22,
   "metadata": {},
   "outputs": [
    {
     "name": "stdout",
     "output_type": "stream",
     "text": [
      "root\n",
      " |-- UserID: integer (nullable = false)\n",
      " |-- recommendations: array (nullable = true)\n",
      " |    |-- element: struct (containsNull = true)\n",
      " |    |    |-- SongID: integer (nullable = true)\n",
      " |    |    |-- rating: float (nullable = true)\n",
      "\n"
     ]
    },
    {
     "name": "stderr",
     "output_type": "stream",
     "text": [
      "                                                                                \r"
     ]
    },
    {
     "name": "stdout",
     "output_type": "stream",
     "text": [
      "+-----------+--------------------+\n",
      "|     UserID|     recommendations|\n",
      "+-----------+--------------------+\n",
      "| 1175829282|[{-1949811848, 8....|\n",
      "|-1485784057|[{-1511816900, 4....|\n",
      "| -263623207|[{-1082424070, 10...|\n",
      "| -913738036|[{1195944994, 5.5...|\n",
      "|-1396894026|[{1968992317, 12....|\n",
      "|-1748408205|[{1968992317, 8.3...|\n",
      "|-1438603335|[{562809730, 14.2...|\n",
      "|  287723006|[{1401083513, 8.9...|\n",
      "|-1822857953|[{1401083513, 5.6...|\n",
      "| -585083843|[{1571353104, 15....|\n",
      "| 1365117428|[{1195944994, 7.9...|\n",
      "| 1598577928|[{562809730, 28.0...|\n",
      "| 1468154379|[{1401083513, 23....|\n",
      "+-----------+--------------------+\n",
      "\n"
     ]
    },
    {
     "name": "stderr",
     "output_type": "stream",
     "text": [
      "                                                                                \r"
     ]
    },
    {
     "name": "stdout",
     "output_type": "stream",
     "text": [
      "+-----------+-----------+---------+\n",
      "|     UserID|     SongID|   Rating|\n",
      "+-----------+-----------+---------+\n",
      "| 1175829282|-1949811848| 8.992541|\n",
      "| 1175829282| 1401083513| 6.880934|\n",
      "| 1175829282| 1280572134|5.3850784|\n",
      "| 1175829282|  562809730|5.1725216|\n",
      "| 1175829282|-1220381942| 4.995857|\n",
      "| 1175829282| 1968992317| 4.260912|\n",
      "| 1175829282| -463911918|4.1883945|\n",
      "| 1175829282|  505486927|3.9966848|\n",
      "| 1175829282|-1047121397|3.6946583|\n",
      "| 1175829282|  587182546|3.5900528|\n",
      "|-1485784057|-1511816900| 4.205525|\n",
      "|-1485784057|-2124687182| 4.205525|\n",
      "|-1485784057| 1441848682| 2.989493|\n",
      "|-1485784057| 1616747166|2.5233152|\n",
      "|-1485784057|  535871298|1.9929951|\n",
      "|-1485784057| 1852075704|1.9929951|\n",
      "|-1485784057| 1626940440|1.9929951|\n",
      "|-1485784057|-1327476140|1.9929951|\n",
      "|-1485784057| 1409316643|1.9929951|\n",
      "|-1485784057| -395021924|1.9929951|\n",
      "| -263623207|-1082424070|10.995666|\n",
      "| -263623207| 1968992317|  9.03208|\n",
      "| -263623207|-1164106294| 5.997636|\n",
      "| -263623207| -876213096|5.5595717|\n",
      "| -263623207|  409720438| 4.999984|\n",
      "| -263623207| 1573068951|  4.99803|\n",
      "| -263623207|-1817239030|  4.99803|\n",
      "| -263623207| -257917530|  4.99803|\n",
      "| -263623207| 1706253783|  4.99803|\n",
      "| -263623207| 1239103804|  4.99803|\n",
      "+-----------+-----------+---------+\n",
      "only showing top 30 rows\n",
      "\n"
     ]
    },
    {
     "name": "stderr",
     "output_type": "stream",
     "text": [
      "                                                                                \r"
     ]
    }
   ],
   "source": [
    "# generating recommendations (TOP 10)\n",
    "Top10Rec = model1.recommendForAllUsers(10)\n",
    "Top10Rec.printSchema()\n",
    "Top10Rec.show(30)\n",
    "\n",
    "Top10RecExploded = Top10Rec.withColumn('rec', explode(\"recommendations\")).select('UserID', col(\"rec.SongID\"), col(\"rec.Rating\"))\n",
    "Top10RecExploded.show(30)\n",
    "\n",
    "# export a glance view of Top10Recommendations\n",
    "Top10RecExploded.limit(100).write.csv('Top10Recommendations')"
   ]
  },
  {
   "cell_type": "code",
   "execution_count": null,
   "metadata": {},
   "outputs": [],
   "source": []
  }
 ],
 "metadata": {
  "kernelspec": {
   "display_name": "Python 3 (ipykernel)",
   "language": "python",
   "name": "python3"
  },
  "language_info": {
   "codemirror_mode": {
    "name": "ipython",
    "version": 3
   },
   "file_extension": ".py",
   "mimetype": "text/x-python",
   "name": "python",
   "nbconvert_exporter": "python",
   "pygments_lexer": "ipython3",
   "version": "3.10.6"
  },
  "vscode": {
   "interpreter": {
    "hash": "1c612fed8d120ac5c30643c808a4d3b681130bd8cc40d3014416815b15cd817e"
   }
  }
 },
 "nbformat": 4,
 "nbformat_minor": 2
}
