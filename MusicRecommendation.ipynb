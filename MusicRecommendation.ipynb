{
 "cells": [
  {
   "cell_type": "code",
   "execution_count": 2,
   "metadata": {},
   "outputs": [],
   "source": [
    "#spark_session.stop()"
   ]
  },
  {
   "cell_type": "code",
   "execution_count": 3,
   "metadata": {},
   "outputs": [],
   "source": [
    "from pyspark import SparkContext\n",
    "from pyspark.sql import SparkSession ,Row\n",
    "from pyspark.sql.functions import col\n",
    "from pyspark.sql import SQLContext\n",
    "import pyspark.sql.functions as F\n",
    "\n",
    "from pyspark.mllib.recommendation import *\n",
    "from pyspark.ml.recommendation import ALS\n",
    "from pyspark.ml.evaluation import RegressionEvaluator\n",
    "from pyspark.ml.tuning import ParamGridBuilder, CrossValidator\n",
    "from pyspark.sql.types import IntegerType\n",
    "from pyspark.sql.functions import explode\n",
    "\n",
    "from operator import *\n",
    "import os\n",
    "import random"
   ]
  },
  {
   "cell_type": "code",
   "execution_count": 4,
   "metadata": {},
   "outputs": [
    {
     "name": "stderr",
     "output_type": "stream",
     "text": [
      "WARNING: An illegal reflective access operation has occurred\n",
      "WARNING: Illegal reflective access by org.apache.spark.unsafe.Platform (file:/home/ubuntu/.local/lib/python3.10/site-packages/pyspark/jars/spark-unsafe_2.12-3.2.3.jar) to constructor java.nio.DirectByteBuffer(long,int)\n",
      "WARNING: Please consider reporting this to the maintainers of org.apache.spark.unsafe.Platform\n",
      "WARNING: Use --illegal-access=warn to enable warnings of further illegal reflective access operations\n",
      "WARNING: All illegal access operations will be denied in a future release\n",
      "Using Spark's default log4j profile: org/apache/spark/log4j-defaults.properties\n",
      "Setting default log level to \"WARN\".\n",
      "To adjust logging level use sc.setLogLevel(newLevel). For SparkR, use setLogLevel(newLevel).\n",
      "23/03/12 17:23:52 WARN NativeCodeLoader: Unable to load native-hadoop library for your platform... using builtin-java classes where applicable\n",
      "/home/ubuntu/.local/lib/python3.10/site-packages/pyspark/sql/context.py:77: FutureWarning: Deprecated in 3.0.0. Use SparkSession.builder.getOrCreate() instead.\n",
      "  warnings.warn(\n"
     ]
    }
   ],
   "source": [
    "# initializing a spark session\n",
    "spark_session = SparkSession.builder.appName('GRP10_MusicRec').getOrCreate()\n",
    "# creating spark context for sql\n",
    "SQL_context = SQLContext(spark_session.sparkContext)\n"
   ]
  },
  {
   "cell_type": "code",
   "execution_count": 5,
   "metadata": {},
   "outputs": [
    {
     "name": "stderr",
     "output_type": "stream",
     "text": [
      "                                                                                \r"
     ]
    },
    {
     "name": "stdout",
     "output_type": "stream",
     "text": [
      "+--------------------+------------------+-----+\n",
      "|                User|              Song|Count|\n",
      "+--------------------+------------------+-----+\n",
      "|b80344d063b5ccb32...|SOAKIMP12A8C130995|    1|\n",
      "|b80344d063b5ccb32...|SOAPDEY12A81C210A9|    1|\n",
      "|b80344d063b5ccb32...|SOBBMDR12A8C13253B|    2|\n",
      "|b80344d063b5ccb32...|SOBFNSP12AF72A0E22|    1|\n",
      "|b80344d063b5ccb32...|SOBFOVM12A58A7D494|    1|\n",
      "|b80344d063b5ccb32...|SOBNZDC12A6D4FC103|    1|\n",
      "|b80344d063b5ccb32...|SOBSUJE12A6D4F8CF5|    2|\n",
      "|b80344d063b5ccb32...|SOBVFZR12A6D4F8AE3|    1|\n",
      "|b80344d063b5ccb32...|SOBXALG12A8C13C108|    1|\n",
      "|b80344d063b5ccb32...|SOBXHDL12A81C204C0|    1|\n",
      "+--------------------+------------------+-----+\n",
      "only showing top 10 rows\n",
      "\n"
     ]
    }
   ],
   "source": [
    "# reading csv data from local FS\n",
    "# THIS PART NEEDS TO BE CHANGED TO HDFS VERSION\n",
    "fPATH = 'train_triplets.txt'\n",
    "triplets = spark_session.read.csv(fPATH, header = False, sep=r'\\t')\n",
    "\n",
    "# alter col name\n",
    "triplets = triplets.withColumnRenamed('_c0','User').withColumnRenamed('_c1','Song').withColumnRenamed('_c2','Count')\n",
    "triplets.show(n=10)\n",
    "#print((triplets.count(), len(triplets.columns)))"
   ]
  },
  {
   "cell_type": "code",
   "execution_count": 6,
   "metadata": {},
   "outputs": [
    {
     "name": "stderr",
     "output_type": "stream",
     "text": [
      "                                                                                \r"
     ]
    }
   ],
   "source": [
    "# initializing a new dataframe\n",
    "# generate hash for the upcoming processing\n",
    "tripletsDF = triplets.withColumn('UserID', F.hash(col('User')))\n",
    "tripletsDF = tripletsDF.withColumn('SongID', F.hash(col('Song')))\n",
    "tripletsDF = tripletsDF.withColumn('CountNum', col('Count').cast(IntegerType()))\n",
    "\n",
    "\n",
    "# This DF should have 48M entries, if we want to just have a test,\n",
    "# limit it to 10k or 100k (still takes hours on single node)\n",
    "tripletsDF = tripletsDF.limit(50000)\n",
    "\n",
    "# export a csv file for a glance view of tripletsDF\n",
    "tripletsDF.limit(200).write.csv('tripletsDF_preview')"
   ]
  },
  {
   "cell_type": "code",
   "execution_count": 7,
   "metadata": {},
   "outputs": [
    {
     "name": "stderr",
     "output_type": "stream",
     "text": [
      "[Stage 5:======================================================>  (22 + 1) / 23]\r"
     ]
    },
    {
     "name": "stdout",
     "output_type": "stream",
     "text": [
      "+--------------------+------------------+-----+----------+-----------+--------+\n",
      "|                User|              Song|Count|    UserID|     SongID|CountNum|\n",
      "+--------------------+------------------+-----+----------+-----------+--------+\n",
      "|b80344d063b5ccb32...|SOAKIMP12A8C130995|    1|1365117428| 1315780877|       1|\n",
      "|b80344d063b5ccb32...|SOAPDEY12A81C210A9|    1|1365117428|-1623759929|       1|\n",
      "|b80344d063b5ccb32...|SOBBMDR12A8C13253B|    2|1365117428|-1218290021|       2|\n",
      "|b80344d063b5ccb32...|SOBFNSP12AF72A0E22|    1|1365117428|-1227648141|       1|\n",
      "|b80344d063b5ccb32...|SOBFOVM12A58A7D494|    1|1365117428| 2054460487|       1|\n",
      "+--------------------+------------------+-----+----------+-----------+--------+\n",
      "only showing top 5 rows\n",
      "\n"
     ]
    },
    {
     "name": "stderr",
     "output_type": "stream",
     "text": [
      "                                                                                \r"
     ]
    }
   ],
   "source": [
    "tripletsDF.show(5)"
   ]
  },
  {
   "cell_type": "code",
   "execution_count": 8,
   "metadata": {},
   "outputs": [],
   "source": [
    "# train test split\n",
    "# make this seprately if we skip the cv process\n",
    "(train, test) = tripletsDF.randomSplit([0.8,0.2], seed = 42)\n",
    "# to choose if CV best result will be used, 0 for use our own hyperparameters, 1 for auto\n",
    "CV = 0\n",
    "# initializing ALS model\n",
    "ALS_model = ALS(maxIter = 3, userCol = \"UserID\", itemCol = 'SongID', ratingCol = 'CountNum', coldStartStrategy = 'drop')"
   ]
  },
  {
   "cell_type": "code",
   "execution_count": 9,
   "metadata": {},
   "outputs": [],
   "source": [
    "# grid seraching for the best parameter, adding more costs exponential time\n",
    "grid = ParamGridBuilder().addGrid(ALS_model.rank, [10]).addGrid(ALS_model.regParam, [0.01]).build()\n",
    "\n",
    "# initialzie a RMSE evaluator\n",
    "evaluator = RegressionEvaluator(metricName = 'rmse', labelCol = 'CountNum', predictionCol = 'prediction')\n",
    "\n",
    "if CV == 1:\n",
    "    # set up cross validation process\n",
    "    CrossVal = CrossValidator(numFolds = 5, estimator = ALS_model, estimatorParamMaps = grid, evaluator = evaluator)\n",
    "\n",
    "    model = CrossVal.fit(train)\n",
    "\n",
    "    # get the best model from cross validation\n",
    "    TopModel = model.bestModel"
   ]
  },
  {
   "cell_type": "code",
   "execution_count": 10,
   "metadata": {},
   "outputs": [
    {
     "name": "stderr",
     "output_type": "stream",
     "text": [
      "23/03/12 17:24:30 WARN InstanceBuilder$NativeBLAS: Failed to load implementation from:dev.ludovic.netlib.blas.JNIBLAS\n",
      "23/03/12 17:24:30 WARN InstanceBuilder$NativeBLAS: Failed to load implementation from:dev.ludovic.netlib.blas.ForeignLinkerBLAS\n",
      "23/03/12 17:24:31 WARN InstanceBuilder$NativeLAPACK: Failed to load implementation from:dev.ludovic.netlib.lapack.JNILAPACK\n",
      "                                                                                \r"
     ]
    },
    {
     "name": "stdout",
     "output_type": "stream",
     "text": [
      "The RMSE is: 7.600019281104039\n"
     ]
    },
    {
     "name": "stderr",
     "output_type": "stream",
     "text": [
      "                                                                                \r"
     ]
    }
   ],
   "source": [
    "# using the best hyperparameters from cv process\n",
    "if CV == 1:\n",
    "    estimator1 = ALS(rank = TopModel._java_obj.parent().getRank(), regParam = TopModel._java_obj.parent().getRegParam(), maxIter = 10, userCol = \"UserID\", itemCol = 'SongID', ratingCol = 'CountNum', coldStartStrategy = 'drop')\n",
    "else:\n",
    "    estimator1 = ALS(rank = 10, regParam = 0.01, maxIter = 3, userCol = \"UserID\", itemCol = 'SongID', ratingCol = 'CountNum', coldStartStrategy = 'drop')\n",
    "model1 = estimator1.fit(train)\n",
    "\n",
    "\n",
    "# make predictions from this model and see the RMSE\n",
    "predictions1 = model1.transform(test)\n",
    "print('The RMSE is:', evaluator.evaluate(predictions1))"
   ]
  },
  {
   "cell_type": "code",
   "execution_count": 11,
   "metadata": {},
   "outputs": [
    {
     "name": "stderr",
     "output_type": "stream",
     "text": [
      "/home/ubuntu/.local/lib/python3.10/site-packages/pyspark/sql/context.py:125: FutureWarning: Deprecated in 3.0.0. Use SparkSession.builder.getOrCreate() instead.\n",
      "  warnings.warn(\n"
     ]
    },
    {
     "name": "stdout",
     "output_type": "stream",
     "text": [
      "root\n",
      " |-- UserID: integer (nullable = false)\n",
      " |-- recommendations: array (nullable = true)\n",
      " |    |-- element: struct (containsNull = true)\n",
      " |    |    |-- SongID: integer (nullable = true)\n",
      " |    |    |-- rating: float (nullable = true)\n",
      "\n"
     ]
    },
    {
     "name": "stderr",
     "output_type": "stream",
     "text": [
      "                                                                                \r"
     ]
    },
    {
     "name": "stdout",
     "output_type": "stream",
     "text": [
      "+-----------+-----------+---------+\n",
      "|     UserID|     SongID|   Rating|\n",
      "+-----------+-----------+---------+\n",
      "|-2142932360| 1714300901| 71.20638|\n",
      "|-2142932360|-1040959179| 49.89726|\n",
      "|-2142932360|  800926323|46.211792|\n",
      "|-2142932360| -129211381|39.312992|\n",
      "|-2142932360|-1319581813| 30.28074|\n",
      "|-2142932360|  155649641|29.927979|\n",
      "|-2142932360| 1458280062|28.692703|\n",
      "|-2142932360|  -14208851|28.170979|\n",
      "|-2142932360| 1491754181|27.321358|\n",
      "|-2142932360| 1539449717| 25.38141|\n",
      "|-2137966073|   81446206|4174.1694|\n",
      "|-2137966073| 1458280062| 447.3444|\n",
      "|-2137966073| 1930078612| 172.2673|\n",
      "|-2137966073| -613834292|144.28098|\n",
      "|-2137966073|-1839976387|129.85287|\n",
      "|-2137966073|  614659202|128.24974|\n",
      "|-2137966073| -649334583|121.97104|\n",
      "|-2137966073| 1491754181|120.93936|\n",
      "|-2137966073|  367117523|107.33791|\n",
      "|-2137966073| -450919340|94.838036|\n",
      "|-2137573205|-1040959179| 86.33725|\n",
      "|-2137573205| -129211381|68.023285|\n",
      "|-2137573205|  434524559|52.839947|\n",
      "|-2137573205| -164725097|  38.4372|\n",
      "|-2137573205| -150803833|31.307053|\n",
      "|-2137573205|  -14208851|30.220314|\n",
      "|-2137573205| 1508750298| 29.96424|\n",
      "|-2137573205|-1458130271|27.588888|\n",
      "|-2137573205| 1380396842|  27.2246|\n",
      "|-2137573205| -807255578|26.975046|\n",
      "+-----------+-----------+---------+\n",
      "only showing top 30 rows\n",
      "\n"
     ]
    },
    {
     "name": "stderr",
     "output_type": "stream",
     "text": [
      "                                                                                \r"
     ]
    }
   ],
   "source": [
    "# generating recommendations (TOP 10)\n",
    "Top10Rec = model1.recommendForAllUsers(10)\n",
    "Top10Rec.printSchema()\n",
    "#Top10Rec.show(30)\n",
    "\n",
    "Top10RecExploded = Top10Rec.withColumn('rec', explode(\"recommendations\")).select('UserID', col(\"rec.SongID\"), col(\"rec.Rating\"))\n",
    "Top10RecExploded.show(30)\n",
    "\n",
    "# export a glance view of Top10Recommendations\n",
    "Top10RecExploded.limit(100).write.csv('Top10Recommendations')"
   ]
  },
  {
   "cell_type": "code",
   "execution_count": 15,
   "metadata": {},
   "outputs": [
    {
     "name": "stderr",
     "output_type": "stream",
     "text": [
      "                                                                                \r"
     ]
    }
   ],
   "source": [
    "# export a glance view of Top10Recommendations\n",
    "Top10RecExploded.write.csv('Top10Recommendations_50000')"
   ]
  },
  {
   "cell_type": "code",
   "execution_count": 12,
   "metadata": {},
   "outputs": [
    {
     "name": "stdout",
     "output_type": "stream",
     "text": [
      "+------------------+------------------+--------------------+--------------------+-----------+\n",
      "|               _c0|              Song|          ArtistName|               Title|     SongID|\n",
      "+------------------+------------------+--------------------+--------------------+-----------+\n",
      "|TRAAAAW128F429D538|SOMZWCG12A8C13C480|              Casual|    I Didn't Mean To| 1552522404|\n",
      "|TRAAABD128F429CF47|SOCIWDW12A8C13D406|        The Box Tops|           Soul Deep| -496217085|\n",
      "|TRAAADZ128F9348C2E|SOXVLOJ12AB0189215|    Sonora Santanera|     Amor De Cabaret| 1426331605|\n",
      "|TRAAAEF128F4273421|SONHOTT12A8C13493C|            Adam Ant|     Something Girls|  544571125|\n",
      "|TRAAAFD128F92F423A|SOFSOCN12A8C143F5D|                 Gob|      Face the Ashes| 1666660322|\n",
      "|TRAAAMO128F1481E7F|SOYMRWW12A6D4FAB14|Jeff And Sheri Ea...|The Moon And I (O...|  104420301|\n",
      "|TRAAAMQ128F1460CD3|SOMJBYD12A6D4F8557|             Rated R|Keepin It Real (S...| -105457899|\n",
      "|TRAAAPK128E0786D96|SOHKNRJ12A6701D1F8|Tweeterfriendly M...|        Drop of Rain|-1807088486|\n",
      "|TRAAARJ128F9320760|SOIAZJW12AB01853F1|    Planet P Project|          Pink World| -407066255|\n",
      "|TRAAAVG12903CFA543|SOUDSGM12AC9618304|                 Clp|Insatiable (Instr...| 1470892240|\n",
      "+------------------+------------------+--------------------+--------------------+-----------+\n",
      "only showing top 10 rows\n",
      "\n"
     ]
    }
   ],
   "source": [
    "fPATH2 = 'unique_tracks.txt'\n",
    "# read another file with tracks and artist info\n",
    "uTracks = spark_session.read.csv(fPATH2, sep = '<SEP>')\n",
    "# renaming columns\n",
    "uTracks = uTracks.withColumnRenamed(\"_c1\",\"Song\").withColumnRenamed(\"_c2\",\"ArtistName\").withColumnRenamed(\"_c3\",\"Title\")\n",
    "# same as before\n",
    "uTracks= uTracks.withColumn(\"SongID\", F.hash(col(\"Song\")))\n",
    "\n",
    "uTracks.show(10)\n",
    "#print((tracks.count(), len(tracks.columns)))"
   ]
  },
  {
   "cell_type": "code",
   "execution_count": 17,
   "metadata": {},
   "outputs": [
    {
     "name": "stderr",
     "output_type": "stream",
     "text": [
      "                                                                                \r"
     ]
    },
    {
     "name": "stdout",
     "output_type": "stream",
     "text": [
      "+----------+-----------+---------+------------------+------------------+--------------+--------------------+\n",
      "|    SongID|     UserID|   Rating|               _c0|              Song|    ArtistName|               Title|\n",
      "+----------+-----------+---------+------------------+------------------+--------------+--------------------+\n",
      "|-946922627|-2132194054|30.251984|TRAWLYS12903CCFEFC|SOVAGPG12AB0189963|Joa~o Gilberto|Samba De Una Nota...|\n",
      "|-946922627| -412531544| 22.15806|TRAWLYS12903CCFEFC|SOVAGPG12AB0189963|Joa~o Gilberto|Samba De Una Nota...|\n",
      "+----------+-----------+---------+------------------+------------------+--------------+--------------------+\n",
      "\n"
     ]
    },
    {
     "name": "stderr",
     "output_type": "stream",
     "text": [
      "                                                                                \r"
     ]
    }
   ],
   "source": [
    "# join two dataframes so that we can match song title with id\n",
    "preview1 = Top10RecExploded.join(uTracks, on = 'SongID').sort('Rating', ascending = False)\n",
    "\n",
    "# if nothing shows here, you need to use a larger limit for tripletsDF, e.g. 100,000\n",
    "preview1.show(10)"
   ]
  },
  {
   "cell_type": "code",
   "execution_count": 14,
   "metadata": {},
   "outputs": [
    {
     "name": "stderr",
     "output_type": "stream",
     "text": [
      "                                                                                \r"
     ]
    },
    {
     "name": "stdout",
     "output_type": "stream",
     "text": [
      "+------------------+--------------------+-----+----------+-----------+--------+------------------+-------------------+\n",
      "|              Song|                User|Count|    UserID|     SongID|CountNum|     avg(CountNum)|             Rating|\n",
      "+------------------+--------------------+-----+----------+-----------+--------+------------------+-------------------+\n",
      "|SOAKIMP12A8C130995|b80344d063b5ccb32...|    1|1365117428| 1315780877|       1|1.6666666666666667|                0.6|\n",
      "|SOAPDEY12A81C210A9|b80344d063b5ccb32...|    1|1365117428|-1623759929|       1|               4.5| 0.2222222222222222|\n",
      "|SOBBMDR12A8C13253B|b80344d063b5ccb32...|    2|1365117428|-1218290021|       2|              23.0|0.08695652173913043|\n",
      "|SOBFNSP12AF72A0E22|b80344d063b5ccb32...|    1|1365117428|-1227648141|       1|               1.0|                1.0|\n",
      "|SOBFOVM12A58A7D494|b80344d063b5ccb32...|    1|1365117428| 2054460487|       1|               1.0|                1.0|\n",
      "|SOBNZDC12A6D4FC103|b80344d063b5ccb32...|    1|1365117428| 1741539561|       1|               1.0|                1.0|\n",
      "|SOBSUJE12A6D4F8CF5|b80344d063b5ccb32...|    2|1365117428| 1352462404|       2|               2.0|                1.0|\n",
      "|SOBVFZR12A6D4F8AE3|b80344d063b5ccb32...|    1|1365117428|-1539040688|       1|               1.0|                1.0|\n",
      "|SOBXALG12A8C13C108|b80344d063b5ccb32...|    1|1365117428| 1734414350|       1|               1.0|                1.0|\n",
      "|SOBXHDL12A81C204C0|b80344d063b5ccb32...|    1|1365117428| 1593338752|       1| 4.615384615384615|0.21666666666666667|\n",
      "+------------------+--------------------+-----+----------+-----------+--------+------------------+-------------------+\n",
      "\n"
     ]
    }
   ],
   "source": [
    "AVGtripletDF = tripletsDF.groupby('Song').avg('CountNum')\n",
    "AVGtripletDF = tripletsDF.join(AVGtripletDF,on = 'Song')\n",
    "AVGtripletDF = AVGtripletDF.withColumn('Rating',F.col('CountNum') / F.col('avg(CountNum)'))\n",
    "AVGtripletDF.limit(10).show()"
   ]
  },
  {
   "cell_type": "code",
   "execution_count": 18,
   "metadata": {},
   "outputs": [
    {
     "name": "stderr",
     "output_type": "stream",
     "text": [
      "                                                                                \r"
     ]
    },
    {
     "name": "stdout",
     "output_type": "stream",
     "text": [
      "The RMSE is: 8.201614445747547\n"
     ]
    }
   ],
   "source": [
    "# train test split\n",
    "# make this seprately if we skip the cv process\n",
    "(train, test) = AVGtripletDF.randomSplit([0.8,0.2], seed = 42)\n",
    "# to choose if CV best result will be used, 0 for use our own hyperparameters, 1 for auto\n",
    "CV = 0\n",
    "# initializing ALS model\n",
    "ALS_model = ALS(maxIter = 3, userCol = \"UserID\", itemCol = 'SongID', ratingCol = 'CountNum', coldStartStrategy = 'drop')\n",
    "\n",
    "\n",
    "# grid seraching for the best parameter, adding more costs exponential time\n",
    "grid = ParamGridBuilder().addGrid(ALS_model.rank, [10]).addGrid(ALS_model.regParam, [0.01]).build()\n",
    "\n",
    "# initialzie a RMSE evaluator\n",
    "evaluator = RegressionEvaluator(metricName = 'rmse', labelCol = 'CountNum', predictionCol = 'prediction')\n",
    "\n",
    "if CV == 1:\n",
    "    # set up cross validation process\n",
    "    CrossVal = CrossValidator(numFolds = 5, estimator = ALS_model, estimatorParamMaps = grid, evaluator = evaluator)\n",
    "\n",
    "    model = CrossVal.fit(train)\n",
    "\n",
    "    # get the best model from cross validation\n",
    "    TopModel = model.bestModel\n",
    "    \n",
    "\n",
    "# using the best hyperparameters from cv process\n",
    "if CV == 1:\n",
    "    estimator2 = ALS(rank = TopModel._java_obj.parent().getRank(), regParam = TopModel._java_obj.parent().getRegParam(), maxIter = 10, userCol = \"UserID\", itemCol = 'SongID', ratingCol = 'CountNum', coldStartStrategy = 'drop')\n",
    "else:\n",
    "    estimator2 = ALS(rank = 10, regParam = 0.01, maxIter = 3, userCol = \"UserID\", itemCol = 'SongID', ratingCol = 'CountNum', coldStartStrategy = 'drop')\n",
    "model2 = estimator2.fit(train)\n",
    "\n",
    "\n",
    "# make predictions from this model and see the RMSE\n",
    "predictions2 = model2.transform(test)\n",
    "print('The RMSE is:', evaluator.evaluate(predictions2))"
   ]
  },
  {
   "cell_type": "code",
   "execution_count": 19,
   "metadata": {},
   "outputs": [
    {
     "name": "stderr",
     "output_type": "stream",
     "text": [
      "[Stage 255:=====================================================>(99 + 1) / 100]\r"
     ]
    },
    {
     "name": "stdout",
     "output_type": "stream",
     "text": [
      "+-----------+-----------+---------+\n",
      "|     UserID|     SongID|   Rating|\n",
      "+-----------+-----------+---------+\n",
      "|-2142932360| 1714300901| 60.71674|\n",
      "|-2142932360| -129211381|41.585102|\n",
      "|-2142932360|  461088686| 37.29334|\n",
      "|-2142932360| 1539449717| 30.09113|\n",
      "|-2142932360| 1491754181| 29.64621|\n",
      "|-2142932360| 1829551989| 26.67107|\n",
      "|-2142932360| 1659373507|25.137074|\n",
      "|-2142932360| 1597669298| 24.55417|\n",
      "|-2142932360| -634560697|24.495926|\n",
      "|-2142932360|-1510434197|24.495926|\n",
      "|-2137966073| 1930078612| 86.14151|\n",
      "|-2137966073| 1597669298|79.077965|\n",
      "|-2137966073| 1814487439| 70.98833|\n",
      "|-2137966073|-1185505407| 67.59891|\n",
      "|-2137966073|  802546531| 55.71886|\n",
      "|-2137966073|  692732998|45.635353|\n",
      "|-2137966073| -474679864|   43.288|\n",
      "|-2137966073|-1556289008| 42.63865|\n",
      "|-2137966073|  167025416|42.444782|\n",
      "|-2137966073| -323877619|41.578884|\n",
      "+-----------+-----------+---------+\n",
      "only showing top 20 rows\n",
      "\n"
     ]
    },
    {
     "name": "stderr",
     "output_type": "stream",
     "text": [
      "                                                                                \r"
     ]
    }
   ],
   "source": [
    "Top10NewRec = model2.recommendForAllUsers(10)\n",
    "Top10NewRecExploded = Top10NewRec.withColumn('rec', explode(\"recommendations\")).select('UserID', col(\"rec.SongID\"), col(\"rec.Rating\"))\n",
    "Top10NewRecExploded.show(20)"
   ]
  },
  {
   "cell_type": "code",
   "execution_count": 24,
   "metadata": {},
   "outputs": [
    {
     "name": "stderr",
     "output_type": "stream",
     "text": [
      "                                                                                \r"
     ]
    },
    {
     "name": "stdout",
     "output_type": "stream",
     "text": [
      "+-----------+-----------+--------+------------+\n",
      "|     SongID|     UserID|  Rating|       Title|\n",
      "+-----------+-----------+--------+------------+\n",
      "|-2127621405|-1935480550|94.13689|This Lullaby|\n",
      "+-----------+-----------+--------+------------+\n",
      "\n"
     ]
    }
   ],
   "source": [
    "preview2 = Top10NewRecExploded.join(uTracks, on='SongID').filter('UserID = -1935480550').sort('Rating',ascending=False).select('SongID','UserID','Rating','Title')\n",
    "preview2.show()"
   ]
  },
  {
   "cell_type": "code",
   "execution_count": 22,
   "metadata": {},
   "outputs": [
    {
     "name": "stderr",
     "output_type": "stream",
     "text": [
      "[Stage 308:====================================================>  (22 + 1) / 23]\r"
     ]
    },
    {
     "name": "stdout",
     "output_type": "stream",
     "text": [
      "+-----------+-----------+--------+--------------------+\n",
      "|     SongID|     UserID|CountNum|               Title|\n",
      "+-----------+-----------+--------+--------------------+\n",
      "|-1632100307|-1935480550|       3|Angie (1993 Digit...|\n",
      "| 1681856507|-1935480550|       1|     Call Of Da Wild|\n",
      "+-----------+-----------+--------+--------------------+\n",
      "\n"
     ]
    },
    {
     "name": "stderr",
     "output_type": "stream",
     "text": [
      "                                                                                \r"
     ]
    }
   ],
   "source": [
    "preview3 = AVGtripletDF.join(uTracks,on=\"SongID\").filter('UserID = -1935480550').sort('CountNum', ascending=False).select('SongID','UserID','CountNum','Title')\n",
    "preview3.show()"
   ]
  },
  {
   "cell_type": "code",
   "execution_count": 25,
   "metadata": {},
   "outputs": [
    {
     "name": "stderr",
     "output_type": "stream",
     "text": [
      "                                                                                \r"
     ]
    }
   ],
   "source": [
    "preview2.write.csv('Top10NewRecommendations_All')\n",
    "preview3.write.csv('AVGtripletDF_All')"
   ]
  },
  {
   "cell_type": "code",
   "execution_count": null,
   "metadata": {},
   "outputs": [],
   "source": []
  }
 ],
 "metadata": {
  "kernelspec": {
   "display_name": "Python 3 (ipykernel)",
   "language": "python",
   "name": "python3"
  },
  "language_info": {
   "codemirror_mode": {
    "name": "ipython",
    "version": 3
   },
   "file_extension": ".py",
   "mimetype": "text/x-python",
   "name": "python",
   "nbconvert_exporter": "python",
   "pygments_lexer": "ipython3",
   "version": "3.10.6"
  },
  "vscode": {
   "interpreter": {
    "hash": "1c612fed8d120ac5c30643c808a4d3b681130bd8cc40d3014416815b15cd817e"
   }
  }
 },
 "nbformat": 4,
 "nbformat_minor": 2
}
